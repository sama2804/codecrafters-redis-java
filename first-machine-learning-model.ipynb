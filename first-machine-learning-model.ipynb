{
 "cells": [
  {
   "cell_type": "markdown",
   "id": "bb45d9fd",
   "metadata": {
    "papermill": {
     "duration": 0.004402,
     "end_time": "2025-07-23T00:43:25.316568",
     "exception": false,
     "start_time": "2025-07-23T00:43:25.312166",
     "status": "completed"
    },
    "tags": []
   },
   "source": [
    "**This notebook is an exercise in the [Introduction to Machine Learning](https://www.kaggle.com/learn/intro-to-machine-learning) course.  You can reference the tutorial at [this link](https://www.kaggle.com/dansbecker/your-first-machine-learning-model).**\n",
    "\n",
    "---\n"
   ]
  },
  {
   "cell_type": "markdown",
   "id": "3496927b",
   "metadata": {
    "papermill": {
     "duration": 0.003122,
     "end_time": "2025-07-23T00:43:25.323380",
     "exception": false,
     "start_time": "2025-07-23T00:43:25.320258",
     "status": "completed"
    },
    "tags": []
   },
   "source": [
    "## Recap\n",
    "So far, you have loaded your data and reviewed it with the following code. Run this cell to set up your coding environment where the previous step left off."
   ]
  },
  {
   "cell_type": "code",
   "execution_count": 1,
   "id": "035de9be",
   "metadata": {
    "execution": {
     "iopub.execute_input": "2025-07-23T00:43:25.331445Z",
     "iopub.status.busy": "2025-07-23T00:43:25.331154Z",
     "iopub.status.idle": "2025-07-23T00:43:29.214045Z",
     "shell.execute_reply": "2025-07-23T00:43:29.213075Z"
    },
    "papermill": {
     "duration": 3.888645,
     "end_time": "2025-07-23T00:43:29.215493",
     "exception": false,
     "start_time": "2025-07-23T00:43:25.326848",
     "status": "completed"
    },
    "tags": []
   },
   "outputs": [
    {
     "name": "stdout",
     "output_type": "stream",
     "text": [
      "Setup Complete\n"
     ]
    }
   ],
   "source": [
    "# Code you have previously used to load data\n",
    "import pandas as pd\n",
    "\n",
    "# Path of the file to read\n",
    "iowa_file_path = '../input/home-data-for-ml-course/train.csv'\n",
    "\n",
    "home_data = pd.read_csv(iowa_file_path)\n",
    "\n",
    "# Set up code checking\n",
    "from learntools.core import binder\n",
    "binder.bind(globals())\n",
    "from learntools.machine_learning.ex3 import *\n",
    "\n",
    "print(\"Setup Complete\")"
   ]
  },
  {
   "cell_type": "markdown",
   "id": "9eacefc0",
   "metadata": {
    "papermill": {
     "duration": 0.003546,
     "end_time": "2025-07-23T00:43:29.222940",
     "exception": false,
     "start_time": "2025-07-23T00:43:29.219394",
     "status": "completed"
    },
    "tags": []
   },
   "source": [
    "# Exercises\n",
    "\n",
    "## Step 1: Specify Prediction Target\n",
    "Select the target variable, which corresponds to the sales price. Save this to a new variable called `y`. You'll need to print a list of the columns to find the name of the column you need.\n"
   ]
  },
  {
   "cell_type": "code",
   "execution_count": 2,
   "id": "5e94aeee",
   "metadata": {
    "execution": {
     "iopub.execute_input": "2025-07-23T00:43:29.231771Z",
     "iopub.status.busy": "2025-07-23T00:43:29.231287Z",
     "iopub.status.idle": "2025-07-23T00:43:29.239855Z",
     "shell.execute_reply": "2025-07-23T00:43:29.238820Z"
    },
    "papermill": {
     "duration": 0.014685,
     "end_time": "2025-07-23T00:43:29.241284",
     "exception": false,
     "start_time": "2025-07-23T00:43:29.226599",
     "status": "completed"
    },
    "tags": []
   },
   "outputs": [
    {
     "data": {
      "text/plain": [
       "Index(['Id', 'MSSubClass', 'MSZoning', 'LotFrontage', 'LotArea', 'Street',\n",
       "       'Alley', 'LotShape', 'LandContour', 'Utilities', 'LotConfig',\n",
       "       'LandSlope', 'Neighborhood', 'Condition1', 'Condition2', 'BldgType',\n",
       "       'HouseStyle', 'OverallQual', 'OverallCond', 'YearBuilt', 'YearRemodAdd',\n",
       "       'RoofStyle', 'RoofMatl', 'Exterior1st', 'Exterior2nd', 'MasVnrType',\n",
       "       'MasVnrArea', 'ExterQual', 'ExterCond', 'Foundation', 'BsmtQual',\n",
       "       'BsmtCond', 'BsmtExposure', 'BsmtFinType1', 'BsmtFinSF1',\n",
       "       'BsmtFinType2', 'BsmtFinSF2', 'BsmtUnfSF', 'TotalBsmtSF', 'Heating',\n",
       "       'HeatingQC', 'CentralAir', 'Electrical', '1stFlrSF', '2ndFlrSF',\n",
       "       'LowQualFinSF', 'GrLivArea', 'BsmtFullBath', 'BsmtHalfBath', 'FullBath',\n",
       "       'HalfBath', 'BedroomAbvGr', 'KitchenAbvGr', 'KitchenQual',\n",
       "       'TotRmsAbvGrd', 'Functional', 'Fireplaces', 'FireplaceQu', 'GarageType',\n",
       "       'GarageYrBlt', 'GarageFinish', 'GarageCars', 'GarageArea', 'GarageQual',\n",
       "       'GarageCond', 'PavedDrive', 'WoodDeckSF', 'OpenPorchSF',\n",
       "       'EnclosedPorch', '3SsnPorch', 'ScreenPorch', 'PoolArea', 'PoolQC',\n",
       "       'Fence', 'MiscFeature', 'MiscVal', 'MoSold', 'YrSold', 'SaleType',\n",
       "       'SaleCondition', 'SalePrice'],\n",
       "      dtype='object')"
      ]
     },
     "execution_count": 2,
     "metadata": {},
     "output_type": "execute_result"
    }
   ],
   "source": [
    "# print the list of columns in the dataset to find the name of the prediction target\n",
    "home_data.columns"
   ]
  },
  {
   "cell_type": "code",
   "execution_count": 3,
   "id": "906d65d2",
   "metadata": {
    "execution": {
     "iopub.execute_input": "2025-07-23T00:43:29.250420Z",
     "iopub.status.busy": "2025-07-23T00:43:29.249781Z",
     "iopub.status.idle": "2025-07-23T00:43:29.262252Z",
     "shell.execute_reply": "2025-07-23T00:43:29.261499Z"
    },
    "papermill": {
     "duration": 0.018282,
     "end_time": "2025-07-23T00:43:29.263510",
     "exception": false,
     "start_time": "2025-07-23T00:43:29.245228",
     "status": "completed"
    },
    "tags": []
   },
   "outputs": [
    {
     "data": {
      "application/javascript": [
       "parent.postMessage({\"jupyterEvent\": \"custom.exercise_interaction\", \"data\": {\"outcomeType\": 1, \"valueTowardsCompletion\": 0.25, \"interactionType\": 1, \"questionType\": 2, \"questionId\": \"1_SetTarget\", \"learnToolsVersion\": \"0.3.5\", \"failureMessage\": \"\", \"exceptionClass\": \"\", \"trace\": \"\"}}, \"*\")"
      ],
      "text/plain": [
       "<IPython.core.display.Javascript object>"
      ]
     },
     "metadata": {},
     "output_type": "display_data"
    },
    {
     "data": {
      "text/markdown": [
       "<span style=\"color:#33cc33\">Correct</span>"
      ],
      "text/plain": [
       "Correct"
      ]
     },
     "metadata": {},
     "output_type": "display_data"
    }
   ],
   "source": [
    "y = home_data.SalePrice\n",
    "\n",
    "# Check your answer\n",
    "step_1.check()"
   ]
  },
  {
   "cell_type": "code",
   "execution_count": 4,
   "id": "96939c9a",
   "metadata": {
    "collapsed": true,
    "execution": {
     "iopub.execute_input": "2025-07-23T00:43:29.272642Z",
     "iopub.status.busy": "2025-07-23T00:43:29.272339Z",
     "iopub.status.idle": "2025-07-23T00:43:29.276271Z",
     "shell.execute_reply": "2025-07-23T00:43:29.275514Z"
    },
    "jupyter": {
     "outputs_hidden": true
    },
    "papermill": {
     "duration": 0.010006,
     "end_time": "2025-07-23T00:43:29.277477",
     "exception": false,
     "start_time": "2025-07-23T00:43:29.267471",
     "status": "completed"
    },
    "tags": []
   },
   "outputs": [],
   "source": [
    "# The lines below will show you a hint or the solution.\n",
    "# step_1.hint() \n",
    "# step_1.solution()"
   ]
  },
  {
   "cell_type": "markdown",
   "id": "89b3de9c",
   "metadata": {
    "papermill": {
     "duration": 0.003641,
     "end_time": "2025-07-23T00:43:29.285248",
     "exception": false,
     "start_time": "2025-07-23T00:43:29.281607",
     "status": "completed"
    },
    "tags": []
   },
   "source": [
    "## Step 2: Create X\n",
    "Now you will create a DataFrame called `X` holding the predictive features.\n",
    "\n",
    "Since you want only some columns from the original data, you'll first create a list with the names of the columns you want in `X`.\n",
    "\n",
    "You'll use just the following columns in the list (you can copy and paste the whole list to save some typing, though you'll still need to add quotes):\n",
    "  * LotArea\n",
    "  * YearBuilt\n",
    "  * 1stFlrSF\n",
    "  * 2ndFlrSF\n",
    "  * FullBath\n",
    "  * BedroomAbvGr\n",
    "  * TotRmsAbvGrd\n",
    "\n",
    "After you've created that list of features, use it to create the DataFrame that you'll use to fit the model."
   ]
  },
  {
   "cell_type": "code",
   "execution_count": 5,
   "id": "3bc5aace",
   "metadata": {
    "execution": {
     "iopub.execute_input": "2025-07-23T00:43:29.295019Z",
     "iopub.status.busy": "2025-07-23T00:43:29.294662Z",
     "iopub.status.idle": "2025-07-23T00:43:29.305130Z",
     "shell.execute_reply": "2025-07-23T00:43:29.304356Z"
    },
    "papermill": {
     "duration": 0.016434,
     "end_time": "2025-07-23T00:43:29.306442",
     "exception": false,
     "start_time": "2025-07-23T00:43:29.290008",
     "status": "completed"
    },
    "tags": []
   },
   "outputs": [
    {
     "data": {
      "application/javascript": [
       "parent.postMessage({\"jupyterEvent\": \"custom.exercise_interaction\", \"data\": {\"outcomeType\": 1, \"valueTowardsCompletion\": 0.25, \"interactionType\": 1, \"questionType\": 2, \"questionId\": \"2_SelectPredictionData\", \"learnToolsVersion\": \"0.3.5\", \"failureMessage\": \"\", \"exceptionClass\": \"\", \"trace\": \"\"}}, \"*\")"
      ],
      "text/plain": [
       "<IPython.core.display.Javascript object>"
      ]
     },
     "metadata": {},
     "output_type": "display_data"
    },
    {
     "data": {
      "text/markdown": [
       "<span style=\"color:#33cc33\">Correct</span>"
      ],
      "text/plain": [
       "Correct"
      ]
     },
     "metadata": {},
     "output_type": "display_data"
    }
   ],
   "source": [
    "# Create the list of features below\n",
    "feature_names = [\"LotArea\", \"YearBuilt\", \"1stFlrSF\", \"2ndFlrSF\", \"FullBath\", \"BedroomAbvGr\", \"TotRmsAbvGrd\"]\n",
    "\n",
    "# Select data corresponding to features in feature_names\n",
    "X = home_data[feature_names]\n",
    "\n",
    "# Check your answer\n",
    "step_2.check()"
   ]
  },
  {
   "cell_type": "code",
   "execution_count": 6,
   "id": "67a6d57e",
   "metadata": {
    "collapsed": true,
    "execution": {
     "iopub.execute_input": "2025-07-23T00:43:29.315661Z",
     "iopub.status.busy": "2025-07-23T00:43:29.315405Z",
     "iopub.status.idle": "2025-07-23T00:43:29.319131Z",
     "shell.execute_reply": "2025-07-23T00:43:29.318343Z"
    },
    "jupyter": {
     "outputs_hidden": true
    },
    "papermill": {
     "duration": 0.009823,
     "end_time": "2025-07-23T00:43:29.320379",
     "exception": false,
     "start_time": "2025-07-23T00:43:29.310556",
     "status": "completed"
    },
    "tags": []
   },
   "outputs": [],
   "source": [
    "# step_2.hint()\n",
    "# step_2.solution()"
   ]
  },
  {
   "cell_type": "markdown",
   "id": "002043a9",
   "metadata": {
    "papermill": {
     "duration": 0.003815,
     "end_time": "2025-07-23T00:43:29.328501",
     "exception": false,
     "start_time": "2025-07-23T00:43:29.324686",
     "status": "completed"
    },
    "tags": []
   },
   "source": [
    "## Review Data\n",
    "Before building a model, take a quick look at **X** to verify it looks sensible"
   ]
  },
  {
   "cell_type": "code",
   "execution_count": 7,
   "id": "d0b84e03",
   "metadata": {
    "execution": {
     "iopub.execute_input": "2025-07-23T00:43:29.338282Z",
     "iopub.status.busy": "2025-07-23T00:43:29.337562Z",
     "iopub.status.idle": "2025-07-23T00:43:29.341615Z",
     "shell.execute_reply": "2025-07-23T00:43:29.340692Z"
    },
    "papermill": {
     "duration": 0.010601,
     "end_time": "2025-07-23T00:43:29.343134",
     "exception": false,
     "start_time": "2025-07-23T00:43:29.332533",
     "status": "completed"
    },
    "tags": []
   },
   "outputs": [],
   "source": [
    "# Review data\n",
    "# print description or statistics from X\n",
    "#print(_)\n",
    "\n",
    "# print the top few lines\n",
    "#print(_)"
   ]
  },
  {
   "cell_type": "markdown",
   "id": "7e71db8e",
   "metadata": {
    "papermill": {
     "duration": 0.003807,
     "end_time": "2025-07-23T00:43:29.351189",
     "exception": false,
     "start_time": "2025-07-23T00:43:29.347382",
     "status": "completed"
    },
    "tags": []
   },
   "source": [
    "## Step 3: Specify and Fit Model\n",
    "Create a `DecisionTreeRegressor` and save it iowa_model. Ensure you've done the relevant import from sklearn to run this command.\n",
    "\n",
    "Then fit the model you just created using the data in `X` and `y` that you saved above."
   ]
  },
  {
   "cell_type": "code",
   "execution_count": 8,
   "id": "5804d695",
   "metadata": {
    "execution": {
     "iopub.execute_input": "2025-07-23T00:43:29.360368Z",
     "iopub.status.busy": "2025-07-23T00:43:29.360098Z",
     "iopub.status.idle": "2025-07-23T00:43:29.376017Z",
     "shell.execute_reply": "2025-07-23T00:43:29.375181Z"
    },
    "papermill": {
     "duration": 0.022249,
     "end_time": "2025-07-23T00:43:29.377414",
     "exception": false,
     "start_time": "2025-07-23T00:43:29.355165",
     "status": "completed"
    },
    "tags": []
   },
   "outputs": [
    {
     "data": {
      "application/javascript": [
       "parent.postMessage({\"jupyterEvent\": \"custom.exercise_interaction\", \"data\": {\"outcomeType\": 1, \"valueTowardsCompletion\": 0.25, \"interactionType\": 1, \"questionType\": 2, \"questionId\": \"3_CreateModel\", \"learnToolsVersion\": \"0.3.5\", \"failureMessage\": \"\", \"exceptionClass\": \"\", \"trace\": \"\"}}, \"*\")"
      ],
      "text/plain": [
       "<IPython.core.display.Javascript object>"
      ]
     },
     "metadata": {},
     "output_type": "display_data"
    },
    {
     "data": {
      "text/markdown": [
       "<span style=\"color:#33cc33\">Correct</span>"
      ],
      "text/plain": [
       "Correct"
      ]
     },
     "metadata": {},
     "output_type": "display_data"
    }
   ],
   "source": [
    "from sklearn.tree import DecisionTreeRegressor\n",
    "#specify the model. \n",
    "#For model reproducibility, set a numeric value for random_state when specifying the model\n",
    "iowa_model = DecisionTreeRegressor(random_state=1)\n",
    "\n",
    "# Fit the model\n",
    "iowa_model.fit(X, y)\n",
    "\n",
    "# Check your answer\n",
    "step_3.check()"
   ]
  },
  {
   "cell_type": "code",
   "execution_count": 9,
   "id": "b2d949c9",
   "metadata": {
    "collapsed": true,
    "execution": {
     "iopub.execute_input": "2025-07-23T00:43:29.387843Z",
     "iopub.status.busy": "2025-07-23T00:43:29.387389Z",
     "iopub.status.idle": "2025-07-23T00:43:29.391583Z",
     "shell.execute_reply": "2025-07-23T00:43:29.390662Z"
    },
    "jupyter": {
     "outputs_hidden": true
    },
    "papermill": {
     "duration": 0.011171,
     "end_time": "2025-07-23T00:43:29.393046",
     "exception": false,
     "start_time": "2025-07-23T00:43:29.381875",
     "status": "completed"
    },
    "tags": []
   },
   "outputs": [],
   "source": [
    "# step_3.hint()\n",
    "# step_3.solution()"
   ]
  },
  {
   "cell_type": "markdown",
   "id": "8e6e5cff",
   "metadata": {
    "papermill": {
     "duration": 0.004092,
     "end_time": "2025-07-23T00:43:29.401565",
     "exception": false,
     "start_time": "2025-07-23T00:43:29.397473",
     "status": "completed"
    },
    "tags": []
   },
   "source": [
    "## Step 4: Make Predictions\n",
    "Make predictions with the model's `predict` command using `X` as the data. Save the results to a variable called `predictions`."
   ]
  },
  {
   "cell_type": "code",
   "execution_count": 10,
   "id": "fe9dc885",
   "metadata": {
    "execution": {
     "iopub.execute_input": "2025-07-23T00:43:29.411592Z",
     "iopub.status.busy": "2025-07-23T00:43:29.411280Z",
     "iopub.status.idle": "2025-07-23T00:43:29.423077Z",
     "shell.execute_reply": "2025-07-23T00:43:29.422170Z"
    },
    "papermill": {
     "duration": 0.018492,
     "end_time": "2025-07-23T00:43:29.424425",
     "exception": false,
     "start_time": "2025-07-23T00:43:29.405933",
     "status": "completed"
    },
    "tags": []
   },
   "outputs": [
    {
     "name": "stdout",
     "output_type": "stream",
     "text": [
      "[208500. 181500. 223500. ... 266500. 142125. 147500.]\n"
     ]
    },
    {
     "data": {
      "application/javascript": [
       "parent.postMessage({\"jupyterEvent\": \"custom.exercise_interaction\", \"data\": {\"outcomeType\": 1, \"valueTowardsCompletion\": 0.25, \"interactionType\": 1, \"questionType\": 2, \"questionId\": \"4_MakePredictions\", \"learnToolsVersion\": \"0.3.5\", \"failureMessage\": \"\", \"exceptionClass\": \"\", \"trace\": \"\"}}, \"*\")"
      ],
      "text/plain": [
       "<IPython.core.display.Javascript object>"
      ]
     },
     "metadata": {},
     "output_type": "display_data"
    },
    {
     "data": {
      "text/markdown": [
       "<span style=\"color:#33cc33\">Correct</span>"
      ],
      "text/plain": [
       "Correct"
      ]
     },
     "metadata": {},
     "output_type": "display_data"
    }
   ],
   "source": [
    "predictions = iowa_model.predict(X)\n",
    "print(predictions)\n",
    "\n",
    "# Check your answer\n",
    "step_4.check()"
   ]
  },
  {
   "cell_type": "code",
   "execution_count": 11,
   "id": "0782b12b",
   "metadata": {
    "collapsed": true,
    "execution": {
     "iopub.execute_input": "2025-07-23T00:43:29.434890Z",
     "iopub.status.busy": "2025-07-23T00:43:29.434508Z",
     "iopub.status.idle": "2025-07-23T00:43:29.438562Z",
     "shell.execute_reply": "2025-07-23T00:43:29.437629Z"
    },
    "jupyter": {
     "outputs_hidden": true
    },
    "papermill": {
     "duration": 0.011121,
     "end_time": "2025-07-23T00:43:29.440136",
     "exception": false,
     "start_time": "2025-07-23T00:43:29.429015",
     "status": "completed"
    },
    "tags": []
   },
   "outputs": [],
   "source": [
    "# step_4.hint()\n",
    "# step_4.solution()"
   ]
  },
  {
   "cell_type": "markdown",
   "id": "a3f2e13a",
   "metadata": {
    "papermill": {
     "duration": 0.004532,
     "end_time": "2025-07-23T00:43:29.449437",
     "exception": false,
     "start_time": "2025-07-23T00:43:29.444905",
     "status": "completed"
    },
    "tags": []
   },
   "source": [
    "## Think About Your Results\n",
    "\n",
    "Use the `head` method to compare the top few predictions to the actual home values (in `y`) for those same homes. Anything surprising?\n"
   ]
  },
  {
   "cell_type": "code",
   "execution_count": 12,
   "id": "f1d5b840",
   "metadata": {
    "execution": {
     "iopub.execute_input": "2025-07-23T00:43:29.459669Z",
     "iopub.status.busy": "2025-07-23T00:43:29.459362Z",
     "iopub.status.idle": "2025-07-23T00:43:29.466110Z",
     "shell.execute_reply": "2025-07-23T00:43:29.465264Z"
    },
    "papermill": {
     "duration": 0.013456,
     "end_time": "2025-07-23T00:43:29.467429",
     "exception": false,
     "start_time": "2025-07-23T00:43:29.453973",
     "status": "completed"
    },
    "tags": []
   },
   "outputs": [
    {
     "name": "stdout",
     "output_type": "stream",
     "text": [
      "[208500. 181500. 223500. 140000. 250000.]\n"
     ]
    }
   ],
   "source": [
    "# You can write code in this cell\n",
    "predictions = iowa_model.predict(X.head())\n",
    "print(predictions)"
   ]
  },
  {
   "cell_type": "markdown",
   "id": "c71a3025",
   "metadata": {
    "papermill": {
     "duration": 0.004654,
     "end_time": "2025-07-23T00:43:29.476945",
     "exception": false,
     "start_time": "2025-07-23T00:43:29.472291",
     "status": "completed"
    },
    "tags": []
   },
   "source": [
    "It's natural to ask how accurate the model's predictions will be and how you can improve that. That will be you're next step.\n",
    "\n",
    "# Keep Going\n",
    "\n",
    "You are ready for **[Model Validation](https://www.kaggle.com/dansbecker/model-validation).**\n"
   ]
  },
  {
   "cell_type": "markdown",
   "id": "c3a30a95",
   "metadata": {
    "papermill": {
     "duration": 0.004317,
     "end_time": "2025-07-23T00:43:29.485780",
     "exception": false,
     "start_time": "2025-07-23T00:43:29.481463",
     "status": "completed"
    },
    "tags": []
   },
   "source": [
    "---\n",
    "\n",
    "\n",
    "\n",
    "\n",
    "*Have questions or comments? Visit the [course discussion forum](https://www.kaggle.com/learn/intro-to-machine-learning/discussion) to chat with other learners.*"
   ]
  }
 ],
 "metadata": {
  "kaggle": {
   "accelerator": "none",
   "dataSources": [
    {
     "databundleVersionId": 111096,
     "sourceId": 10211,
     "sourceType": "competition"
    },
    {
     "datasetId": 11167,
     "sourceId": 15520,
     "sourceType": "datasetVersion"
    },
    {
     "datasetId": 2709,
     "sourceId": 38454,
     "sourceType": "datasetVersion"
    }
   ],
   "isGpuEnabled": false,
   "isInternetEnabled": false,
   "language": "python",
   "sourceType": "notebook"
  },
  "kernelspec": {
   "display_name": "Python 3",
   "language": "python",
   "name": "python3"
  },
  "language_info": {
   "codemirror_mode": {
    "name": "ipython",
    "version": 3
   },
   "file_extension": ".py",
   "mimetype": "text/x-python",
   "name": "python",
   "nbconvert_exporter": "python",
   "pygments_lexer": "ipython3",
   "version": "3.11.13"
  },
  "papermill": {
   "default_parameters": {},
   "duration": 9.619216,
   "end_time": "2025-07-23T00:43:30.210782",
   "environment_variables": {},
   "exception": null,
   "input_path": "__notebook__.ipynb",
   "output_path": "__notebook__.ipynb",
   "parameters": {},
   "start_time": "2025-07-23T00:43:20.591566",
   "version": "2.6.0"
  }
 },
 "nbformat": 4,
 "nbformat_minor": 5
}
